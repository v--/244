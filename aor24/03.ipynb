{
 "cells": [
  {
   "cell_type": "markdown",
   "id": "b8fe7740-582d-4d08-85df-9a03dcab58a1",
   "metadata": {},
   "source": [
    "# Problem description\n",
    "\n",
    "Hey, ORville here 👋\n",
    "\n",
    "I'm a logistics manager overseeing the allocation of tasks to employees in our company, FurnitORe.\n",
    "\n",
    "Right now we have 100 tasks that need to be completed, and we also have 100 employees available to handle them.\n",
    "\n",
    "The catch is that assigning a task to an employee has a cost 💸.\n",
    "\n",
    "These costs vary depending on the difficulty of the task, the expertise of the employee, and other factors.\n",
    "\n",
    "I need your help to figure out the most cost-effective way to assign these tasks to employees.\n",
    "\n",
    "You can assume that each task is done by just one employee, and one employee is assigned to just one task.\n",
    "\n",
    "Can you help me solve this problem?"
   ]
  },
  {
   "cell_type": "markdown",
   "id": "1f642f0c-0a21-409a-98ff-279137b62436",
   "metadata": {},
   "source": [
    "# Problem data"
   ]
  },
  {
   "cell_type": "markdown",
   "id": "53605472-b7a8-44d5-804b-4f3f68048159",
   "metadata": {},
   "source": [
    "Here are the first 15 lines of the provided data file:\n",
    "\n",
    "    # The first line gives you the number of tasks (and employees)\n",
    "    # The rest of the lines give you the cost to assign each task to an employee, such that\n",
    "    # they're grouped in sets of the number of tasks.\n",
    "\n",
    "    # In this instance, you have 100 tasks and employees\n",
    "    # For the assignment of task 1, the cost for assigning it to employee 1 is 52, to employee 2 is 89, to employee 3 is 40... and to employee 100 is 69\n",
    "    # Similarly, for the assignment of task 2, the cost for assigning it to employee 1 is 20, to employee 2 is 17... and to employee 100 is 92\n",
    "    # And so on and so forth\n",
    "\n",
    "     100\n",
    "     52 89 40 77 89 14 9 77 92 77 52 53 96\n",
    "     96 92 76 33 81 92 84 36 81 47 55 87 35\n",
    "     31 71 6 20 8 10 75 54 50 12 38 5 20\n",
    "     93 70 63 95 96 61 53 35 25 60 64 42 46\n",
    "     68 20 61 53 61 28 86 16 51 32 39 19 28"
   ]
  },
  {
   "cell_type": "markdown",
   "id": "ad40322e-d8e6-47ba-92de-18ec5575303b",
   "metadata": {},
   "source": [
    "# Solution\n",
    "\n",
    "We build a bipartite graph, with tasks in one part and employees in the other. The edges of the graph have the cost of work assigned to them. We then build a full matching of minimal cost, assigning each employee to a task."
   ]
  },
  {
   "cell_type": "code",
   "execution_count": 1,
   "id": "d293e2cf-04f1-4373-afea-2aa667786d1b",
   "metadata": {},
   "outputs": [
    {
     "data": {
      "text/plain": [
       "610"
      ]
     },
     "execution_count": 1,
     "metadata": {},
     "output_type": "execute_result"
    }
   ],
   "source": [
    "from collections.abc import Iterable\n",
    "\n",
    "import networkx as nx\n",
    "\n",
    "\n",
    "def iter_data_file_numbers(path: str) -> Iterable[int]:\n",
    "    with open(path) as file:\n",
    "        for row in file:\n",
    "            if row.startswith('#'):\n",
    "                continue\n",
    "\n",
    "            for num_str in row.split():\n",
    "                yield int(num_str)\n",
    "\n",
    "\n",
    "def read_data(path: str) -> nx.Graph:\n",
    "    it = iter(iter_data_file_numbers(path))\n",
    "    size = next(it)\n",
    "    graph = nx.Graph()\n",
    "\n",
    "    for i in range(1, size + 1):\n",
    "        for j in range(1, size + 1):\n",
    "            graph.add_edge(('task', i), ('employee', j), cost=next(it))\n",
    "\n",
    "    return graph\n",
    "\n",
    "\n",
    "graph = read_data('data/03.txt')\n",
    "matching = nx.algorithms.bipartite.minimum_weight_full_matching(graph, weight='cost')\n",
    "sum(graph.edges[task, employee]['cost'] for task, employee in matching.items())"
   ]
  }
 ],
 "metadata": {
  "jupytext": {
   "formats": "ipynb,py:percent"
  },
  "kernelspec": {
   "display_name": "Python 3 (ipykernel)",
   "language": "python",
   "name": "python3"
  },
  "language_info": {
   "codemirror_mode": {
    "name": "ipython",
    "version": 3
   },
   "file_extension": ".py",
   "mimetype": "text/x-python",
   "name": "python",
   "nbconvert_exporter": "python",
   "pygments_lexer": "ipython3",
   "version": "3.13.0"
  }
 },
 "nbformat": 4,
 "nbformat_minor": 5
}
