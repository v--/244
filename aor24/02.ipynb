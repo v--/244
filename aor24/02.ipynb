{
 "cells": [
  {
   "cell_type": "markdown",
   "id": "b8fe7740-582d-4d08-85df-9a03dcab58a1",
   "metadata": {},
   "source": [
    "# Problem description\n",
    "\n",
    "My friend VictORia and I are planning a road trip.\n",
    "\n",
    "We want to drive from Madrid to Copenhagen and we've seen there are a lot of ways to do it.\n",
    "\n",
    "Most probably, even if we wanted to go through Budapest, we cannot go that path. We have a limited budget for fuel of 73€, and we want to get the shortest possible way.\n",
    "\n",
    "Can you help me solve this problem?"
   ]
  },
  {
   "cell_type": "markdown",
   "id": "1f642f0c-0a21-409a-98ff-279137b62436",
   "metadata": {},
   "source": [
    "# Problem data"
   ]
  },
  {
   "cell_type": "markdown",
   "id": "53605472-b7a8-44d5-804b-4f3f68048159",
   "metadata": {},
   "source": [
    "Here are the first 20 lines of the provided data file:\n",
    "    \n",
    "    # The first line gives you:\n",
    "    # <number of potential cities to visit> <number of connections between them> <max budget in euros for fuel>\n",
    "    # The rest of the lines gives you the connections between cities, with the distance between them and the cost to travel from the first to the second one:\n",
    "    # <first city> <second city> <distance> <euros wasted in fuel>\n",
    "    \n",
    "    # In this instance, you have 100 cities with 955 connections between them, and 73 euros to spend on fuel\n",
    "    # Connection between cities 1 and 37 has a distance of 60 and a cost of 5 euros of fuel,\n",
    "    # connection between cities 1 and 59 has a distance of 9 and a cost of 59 euros of fuel,\n",
    "    # and so on and so forth\n",
    "    \n",
    "    # Madrid is the city 1\n",
    "    # Copenhagen is the city 100\n",
    "    \n",
    "     100 955 73 \n",
    "     1 37 60 5 \n",
    "     1 59 9 59 \n",
    "     1 72 63 1 \n",
    "     2 15 61 1 \n",
    "     2 20 16 39 \n",
    "     2 26 54 6 \n"
   ]
  },
  {
   "cell_type": "markdown",
   "id": "ad40322e-d8e6-47ba-92de-18ec5575303b",
   "metadata": {},
   "source": [
    "# Solution\n",
    "\n",
    "We enumerate the simple paths from shortest to longest and check which of them fit the budget."
   ]
  },
  {
   "cell_type": "code",
   "execution_count": 1,
   "id": "d293e2cf-04f1-4373-afea-2aa667786d1b",
   "metadata": {},
   "outputs": [
    {
     "data": {
      "text/markdown": [
       "\n",
       "Path   | Distance | Cost\n",
       "------ | -------- | ----\n",
       "1 -> 37 -> 41 -> 2 -> 100 | 131   | 44\n"
      ],
      "text/plain": [
       "<IPython.core.display.Markdown object>"
      ]
     },
     "metadata": {},
     "output_type": "display_data"
    }
   ],
   "source": [
    "import itertools\n",
    "import re\n",
    "from collections.abc import Sequence\n",
    "from textwrap import dedent\n",
    "\n",
    "import IPython\n",
    "import networkx as nx\n",
    "import pandas as pd\n",
    "\n",
    "\n",
    "graph = nx.DiGraph()\n",
    "\n",
    "\n",
    "with open('data/02.txt') as file:\n",
    "    for row in file:\n",
    "        if match := re.fullmatch(r' (?P<src>\\d+) (?P<dest>\\d+) (?P<dist>\\d+) (?P<cost>\\d+) \\n', row):        \n",
    "            graph.add_edge(\n",
    "                int(match.group('src')),\n",
    "                int(match.group('dest')),\n",
    "                dist=int(match.group('dist')),\n",
    "                cost=int(match.group('cost'))\n",
    "            )\n",
    "\n",
    "\n",
    "def sum_along_path(path: Sequence[int], attr: str) -> int:\n",
    "    return sum(\n",
    "        graph.edges[src, dest][attr] for src, dest in itertools.pairwise(path)\n",
    "    )\n",
    "\n",
    "\n",
    "def find_path(src: int, dest: int, budget: int) -> Sequence[int]:\n",
    "    for path in nx.shortest_simple_paths(graph, src, dest, 'dist'):\n",
    "        if sum_along_path(path, 'cost') <= budget:\n",
    "            return path\n",
    "\n",
    "    raise LookupError('No such path exists')\n",
    "\n",
    "\n",
    "path = find_path(src=1, dest=100, budget=73)\n",
    "\n",
    "\n",
    "IPython.display.display(\n",
    "    IPython.display.Markdown(\n",
    "        dedent(\n",
    "            '''\n",
    "                Path   | Distance | Cost\n",
    "                ------ | -------- | ----\n",
    "                {path} | {dist}   | {cost}\n",
    "            '''.format(\n",
    "                path=' -> '.join(map(str, path)),\n",
    "                dist=sum_along_path(path, 'dist'),\n",
    "                cost=sum_along_path(path, 'cost')\n",
    "            )\n",
    "        )\n",
    "    )\n",
    ")"
   ]
  }
 ],
 "metadata": {
  "jupytext": {
   "formats": "ipynb,auto:percent"
  },
  "kernelspec": {
   "display_name": "Python 3 (ipykernel)",
   "language": "python",
   "name": "python3"
  },
  "language_info": {
   "codemirror_mode": {
    "name": "ipython",
    "version": 3
   },
   "file_extension": ".py",
   "mimetype": "text/x-python",
   "name": "python",
   "nbconvert_exporter": "python",
   "pygments_lexer": "ipython3",
   "version": "3.13.0"
  }
 },
 "nbformat": 4,
 "nbformat_minor": 5
}
