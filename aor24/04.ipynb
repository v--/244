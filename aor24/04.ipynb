{
 "cells": [
  {
   "cell_type": "markdown",
   "id": "b8fe7740-582d-4d08-85df-9a03dcab58a1",
   "metadata": {},
   "source": [
    "# Problem description\n",
    "\n",
    "Hi, I'm SalvadOR, responsible for creating a school timetable to organize classes, teachers, and rooms for an upcoming semester.\n",
    "\n",
    "We have some strict requirements to meet. This is a very hard problem we face every year, and I need your help to design an optimal timetable.\n",
    "\n",
    "Here's the situation:\n",
    "\n",
    "* There are 4 classes, each requiring specific teaching sessions.\n",
    "* There are 4 teachers, and each teacher has assigned subjects to teach.\n",
    "* There are 4 rooms, and only one class can occupy a room during any given period.\n",
    "* The timetable spans 30 periods, and we must ensure that all requirements are met without any conflicts or overlaps.\n",
    "\n",
    "I desperately need a timetable that satisfies all requirements (each class meets with the right teacher in the right room the required number of times), avoiding any type of clashes such as double-booking a teacher, room, or class during the same period.\n",
    "\n",
    "We say a timetable is optimized when it minimizes idle periods and maximizes resource utilization (teachers and rooms).\n",
    "\n",
    "Can you help me solve this problem?"
   ]
  },
  {
   "cell_type": "markdown",
   "id": "1f642f0c-0a21-409a-98ff-279137b62436",
   "metadata": {},
   "source": [
    "# Problem data"
   ]
  },
  {
   "cell_type": "markdown",
   "id": "53605472-b7a8-44d5-804b-4f3f68048159",
   "metadata": {},
   "source": [
    "Here are the first 14 lines of the provided data file:\n",
    "\n",
    "    # A matrix specifying how often each class-teacher combination needs to meet in specific rooms.\n",
    "\n",
    "    # For instance:\n",
    "    # A \"6\" in the third row of the matrix means Class 3 must meet Teacher 4 in Room 1 six times.\n",
    "    # A \"5\" in the fifth row means Class 1 must meet Teacher 2 in Room 2 five times.\n",
    "\n",
    "    # The matrix is of the following format:\n",
    "    # teacher  1 2 3 4\n",
    "    # --------------------\n",
    "    # class 1: 2 2 1 2\n",
    "    #       2: 1 1 1 2\n",
    "    #       3: 1 1 1 6\n",
    "    #       4: 2 2 3 2 room 1\n",
    "    # ------------"
   ]
  },
  {
   "cell_type": "markdown",
   "id": "ad40322e-d8e6-47ba-92de-18ec5575303b",
   "metadata": {},
   "source": [
    "# Solution\n",
    "\n",
    "We build a graph whose vertices are quadruples (room, class, teacher, lesson id), with an edge if at least one of the first three coincide (we produce unique lesson ids). Then the problem reduces to finding a graph coloring, the colors representing different periods.\n",
    "\n",
    "It turns out that NetworkX's greedy coloring does not produce a time table that fits in 30 periods. Either a specialized algorithm or another approach is needed."
   ]
  },
  {
   "cell_type": "code",
   "execution_count": 1,
   "id": "d293e2cf-04f1-4373-afea-2aa667786d1b",
   "metadata": {},
   "outputs": [
    {
     "data": {
      "text/plain": [
       "39"
      ]
     },
     "execution_count": 1,
     "metadata": {},
     "output_type": "execute_result"
    }
   ],
   "source": [
    "from collections.abc import Iterable\n",
    "\n",
    "import networkx as nx\n",
    "\n",
    "\n",
    "CLASSES = ROOMS = TEACHERS = 4\n",
    "\n",
    "\n",
    "def iter_data_file_numbers(path: str) -> Iterable[int]:\n",
    "    with open(path) as file:\n",
    "        for row in file:\n",
    "            if row.startswith('#'):\n",
    "                continue\n",
    "\n",
    "            for num_str in row.split():\n",
    "                yield int(num_str)\n",
    "\n",
    "\n",
    "def read_data(path: str) -> nx.Graph:\n",
    "    it = iter(iter_data_file_numbers(path))\n",
    "    graph = nx.Graph()\n",
    "    lesson_id = 0\n",
    "\n",
    "    for r in range(1, ROOMS + 1):\n",
    "        for i in range(1, CLASSES + 1):\n",
    "            for j in range(1, TEACHERS + 1):\n",
    "                for _ in range(next(it)):\n",
    "                    lesson_id += 1\n",
    "                    graph.add_node(lesson_id, room=r, class_=i, teacher=j)\n",
    "\n",
    "    for u in graph.nodes:\n",
    "        for v in graph.nodes:\n",
    "            if u != v and len(graph.nodes[u].items() & graph.nodes[v].items()) > 0:\n",
    "                graph.add_edge(u, v)\n",
    "\n",
    "    return graph\n",
    "\n",
    "\n",
    "graph = read_data('data/04.txt')\n",
    "coloring = nx.coloring.greedy_color(graph)\n",
    "n_periods = len(set(coloring.values()))\n",
    "n_periods"
   ]
  }
 ],
 "metadata": {
  "jupytext": {
   "formats": "ipynb,py:percent"
  },
  "kernelspec": {
   "display_name": "Python 3 (ipykernel)",
   "language": "python",
   "name": "python3"
  },
  "language_info": {
   "codemirror_mode": {
    "name": "ipython",
    "version": 3
   },
   "file_extension": ".py",
   "mimetype": "text/x-python",
   "name": "python",
   "nbconvert_exporter": "python",
   "pygments_lexer": "ipython3",
   "version": "3.13.0"
  }
 },
 "nbformat": 4,
 "nbformat_minor": 5
}
