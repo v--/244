{
 "cells": [
  {
   "cell_type": "markdown",
   "id": "b8fe7740-582d-4d08-85df-9a03dcab58a1",
   "metadata": {},
   "source": [
    "# Problem description\n",
    "\n",
    "Hi, I'm ÉléonORe, and I'm struggling to organize a series of events...\n",
    "\n",
    "Each event requires a dedicated room.\n",
    "\n",
    "Some events have overlapping participants, so I can't schedule them in the same room at the same time.\n",
    "\n",
    "How many rooms do I need? How can I assign each event to a room so that no two overlapping events are scheduled in the same one?\n",
    "\n",
    "Ideally, I want to minimize the total number of rooms used.\n",
    "\n",
    "Can you help me solve this problem?"
   ]
  },
  {
   "cell_type": "markdown",
   "id": "1f642f0c-0a21-409a-98ff-279137b62436",
   "metadata": {},
   "source": [
    "# Problem data"
   ]
  },
  {
   "cell_type": "markdown",
   "id": "53605472-b7a8-44d5-804b-4f3f68048159",
   "metadata": {},
   "source": [
    "Here are the first 15 lines of the provided data file:\n",
    "    \n",
    "    # The first line gives you the number of events and the number of conflicts among them.\n",
    "    # The rest of the lines are the events in conflict.\n",
    "    \n",
    "    # In this instance, you have 100 events with 2487.\n",
    "    # The first conflict is event 1 with event 5,\n",
    "    # the second conflict is event 1 with event 7,\n",
    "    # and so on and so forth.\n",
    "    \n",
    "    100 2487\n",
    "    e 1 5\n",
    "    e 1 7\n",
    "    e 1 9\n",
    "    e 1 10\n",
    "    e 1 11\n",
    "    e 1 12"
   ]
  },
  {
   "cell_type": "markdown",
   "id": "ad40322e-d8e6-47ba-92de-18ec5575303b",
   "metadata": {},
   "source": [
    "# Solution\n",
    "\n",
    "We can regard the events as vertices of a simple undirected graph, with an edge in case there is a conflict. The problem then reduces to finding a proper coloring of the graph."
   ]
  },
  {
   "cell_type": "code",
   "execution_count": 1,
   "id": "d293e2cf-04f1-4373-afea-2aa667786d1b",
   "metadata": {},
   "outputs": [
    {
     "data": {
      "text/plain": [
       "20"
      ]
     },
     "execution_count": 1,
     "metadata": {},
     "output_type": "execute_result"
    }
   ],
   "source": [
    "import re\n",
    "\n",
    "import networkx as nx\n",
    "\n",
    "\n",
    "graph = nx.Graph()\n",
    "\n",
    "\n",
    "with open('data/01.txt') as file:\n",
    "    for row in file:\n",
    "        if match := re.fullmatch(r'e (?P<eid>\\d+) (?P<cid>\\d+)\\n', row):\n",
    "            graph.add_edge(\n",
    "                match.group('eid'),\n",
    "                match.group('cid')\n",
    "            )\n",
    "\n",
    "\n",
    "coloring = nx.coloring.greedy_color(graph)\n",
    "n_rooms = len(set(coloring.values()))\n",
    "n_rooms"
   ]
  }
 ],
 "metadata": {
  "jupytext": {
   "formats": "ipynb,auto:percent"
  },
  "kernelspec": {
   "display_name": "Python 3 (ipykernel)",
   "language": "python",
   "name": "python3"
  },
  "language_info": {
   "codemirror_mode": {
    "name": "ipython",
    "version": 3
   },
   "file_extension": ".py",
   "mimetype": "text/x-python",
   "name": "python",
   "nbconvert_exporter": "python",
   "pygments_lexer": "ipython3",
   "version": "3.13.0"
  }
 },
 "nbformat": 4,
 "nbformat_minor": 5
}
